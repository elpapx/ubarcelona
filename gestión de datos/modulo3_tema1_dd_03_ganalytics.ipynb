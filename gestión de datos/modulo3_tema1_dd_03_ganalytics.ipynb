{
 "cells": [
  {
   "cell_type": "markdown",
   "metadata": {
    "id": "eJfiC-K0VViA"
   },
   "source": [
    "\n",
    "# **Gestión de datos y datos digitales**\n",
    "### **Autor: Ferran Carrascosa Mallafrè**\n",
    "\n",
    "---\n",
    "---\n",
    "\n",
    "<!-- script html for image -->\n",
    "\n",
    "<center>\n",
    "\n",
    "\n",
    "<img src=\"https://upload.wikimedia.org/wikipedia/commons/thumb/c/c9/Star_Wars%2C_%C3%A9pisode_III_-_La_Revanche_des_Sith_logo.jpg/220px-Star_Wars%2C_%C3%A9pisode_III_-_La_Revanche_des_Sith_logo.jpg\"  width=\"500\" height=\"150\"/>\n",
    "\n",
    "\n",
    "<br>\n",
    "\n",
    "Fuente de la imagen: [https://es.wikipedia.org](https://es.wikipedia.org/wiki/Star_Wars:_Episodio_III_-_La_venganza_de_los_Sith)\n",
    "\n",
    "</center>\n",
    "\n",
    "<br>"
   ]
  },
  {
   "cell_type": "markdown",
   "metadata": {
    "id": "w7y6DiIjVViK"
   },
   "source": [
    "# **Índice**\n",
    "\n",
    "---\n",
    "---\n",
    "\n",
    "> [Gestión de datos y datos digitales](#scrollTo=eJfiC-K0VViA&uniqifier=1)\n",
    "<br>\n",
    ">>\n",
    ">> [Preparación del Entorno](#scrollTo=UkU8akIVtlbn&line=1&uniqifier=1) \\\\\n",
    ">>   \\\\\n",
    ">> [1.3. Google Analytics](#scrollTo=U3oTMspTVVjE&uniqifier=1) \\\\\n",
    ">>\n",
    ">>> [1.3.1. Google developer console](#scrollTo=Hd88I7fxVVju&uniqifier=1) \\\\\n",
    ">>>\n",
    ">>> [1.3.2. Google Analytics Reports](#scrollTo=yxlPi4fjjYGb&uniqifier=1) \\\\\n",
    ">>>\n",
    ">>> [1.3.3. Acceso a Google Analytics des de Python](#scrollTo=uNp0KfRlVVkP&uniqifier=1)\n",
    ">>\n",
    ">> [Enlaces de interés](#scrollTo=C-AMazPq4Htt&uniqifier=1)"
   ]
  },
  {
   "cell_type": "markdown",
   "metadata": {
    "id": "UkU8akIVtlbn"
   },
   "source": [
    "# Preparación del entorno\n",
    "\n",
    "Cargamos las librerías."
   ]
  },
  {
   "cell_type": "code",
   "execution_count": null,
   "metadata": {
    "id": "HGN7SGLiVViU"
   },
   "outputs": [],
   "source": [
    "import pandas as pd\n",
    "import numpy as np\n",
    "import json\n",
    "import os\n",
    "from apiclient.discovery import build\n",
    "from oauth2client.service_account import ServiceAccountCredentials"
   ]
  },
  {
   "cell_type": "markdown",
   "metadata": {
    "id": "U3oTMspTVVjE"
   },
   "source": [
    "# 1.3. Google Analytics\n",
    "\n",
    "\n",
    "Una de las primeras tareas para crear un nuevo website es configurar Google Analytics. Después del tiempo y esfuerzo invertido en construir una web, habitualmente se quiere medir y analizar el comportamiento de los usuarios.\n",
    "\n",
    "Las preguntas más frecuentes son:\n",
    "\n",
    "- ¿Como esta funcionando mis contenidos?\n",
    "- ¿Qué categorías de productos son los más populares?\n",
    "- ¿Cuantas conversiones ha realizado mi campaña de Facebook?\n",
    "- ¿Los usuarios ven el último video que he producido?\n",
    "- ¿Que comparten los usuarios en las redes sociales?\n",
    "- ¿Las personas abandonan la pagina durante el proceso de pago?\n",
    "\n",
    "El [54.6% de todos los websites utilizan Google analytics](https://w3techs.com/technologies/details/ta-googleanalytics)) y el [84% del mercado de herramientas de analisis web](https://w3techs.com/technologies/overview/traffic_analysis) también es de Google Analytics.\n",
    "\n",
    "El objetivo es poder tomar decisiones basados en datos. Las decisiones pueden ser, por ejemplo, el tipo de contenidos invertir, o qué presupuesto puedes gastar en campañas de anuncios.\n",
    "\n",
    "Para aprender a configurar Google Analytics una recomendación, es utilizar el curso de [Google Analytics para principiantes](https://analytics.google.com/analytics/academy/course/6) o incluso el [módulo avanzado](https://analytics.google.com/analytics/academy/).\n",
    "\n",
    "El objetivo del módulo es iniciarse en la conexión a su API de datos para poder extraer información a través de Python. De esta forma, veremos cómo convertir los datos de Google Analytics en tablas pandas. \n",
    "\n",
    "> **Importante**: Obviamente, para poder practicar con el contenido de este módulo necessitas de tu propia cuenta de Google.\n",
    "\n"
   ]
  },
  {
   "cell_type": "markdown",
   "metadata": {
    "id": "Hd88I7fxVVju"
   },
   "source": [
    "## 1.3.1. Google developer console\n",
    "\n",
    "Para acceder puedes acceder al siguiente enlace web: https://console.developers.google.com/. \n",
    "\n",
    "Una vez dentro, debes crear un proyecto nuevo. Esto lo puedes hacer en la pestaña que encontrarás en la parte superior izquierda. Clicas en la pestaña y aprietas la opción de **NUEVO PROYECTO**.\n",
    "\n",
    "Tienes que dar un nombre al proyecto. Por ejemplo \"GA master IL3\" y le das al botón de crear.\n",
    "\n",
    "A continuación, aparecerá consola de desarrollo. Debes habilitar las API's: \n",
    "-\tGoogle Analytics Reporting API\n",
    "-\tGoogle Analytics API\n",
    "\n",
    "Para ello, clicas en la pestaña (izquierda) de la Biblioteca y buscas el nombre de la API (por ejemplo, Google Analytics Reporting API). A continuación, te aparecerá la opción de habilitar.\n",
    "\n",
    "El Siguiente paso consiste en crear las credenciales de acceso a los datos. Para ello clica en la pestaña (izquierda) de Credenciales. A continuación clica en la pestaña “Crear Credenciales” (superior) y escoges la opción de **Cuenta de Servicio**.\n",
    "\n",
    "En detalles de la cuenta de servicio pon un nombre de la cuenta. Por ejemplo: ga-il3-test .  Aprietas la opción de **Crear**.\n",
    "\n",
    "En la caja de Función, otorga a esta cuenta de servicio acceo al proyecto de tipo \"Propietario\". Puedes buscar o escribirlo directamente en la caja. Dale al Botón de Continuar y finalmente al botón de Listo.\n",
    "\n",
    "A continuación, e la pestaña de credenciales, revisa que se ha creado la Cuenta de servicio que deberia llevar el siguiente nombre (según lo hayas configurado):   ga-il3-test@ga-master-il3.iam.gserviceaccount.com . Este correo, lo necesitaras mas adelante.\n",
    "\n",
    "El último paso para obtener las credenciales, es Agregar un clave de acceso a la cuenta de servicio. Para ello, entra en la configuración de la cuenta de servicio clicando sobre el email del nombre de la cuenta. En la siguiente pantalla, clica en a pestaña  de \"AGREGAR CLAVE\" > \"Crear clave nueva\". Se abre un emergente con la opción por defecto de JSON. Aprietas en la opción de \"CREAR\".\n",
    "\n",
    "En mi caso este proceso devuelve un mensaje de \"Se guardó la clave privada en tu computadora\" y además de descarga un fichero .json con las claves. Dale \"Cerrar\" sobre el emergente. El fichero descargado en mi caso se llama: \"ga-master-il3-xxxxxxxxxxx.json\" (las  x son un numero de serie, no es importante). Este fichero con las credenciales lo necesitarás para realizar al conexión a la API. \n",
    "\n",
    "Finalmente, clica el botón de \"Guardar\".\n"
   ]
  },
  {
   "cell_type": "markdown",
   "metadata": {
    "id": "yxlPi4fjjYGb"
   },
   "source": [
    "## 1.3.2. Google Analytics Reports\n",
    "El siguiente paso consiste en dar acceso a la cuenta de servicio des de la Vista del Informe de Google Analytics.\n",
    "\n",
    "En el caso que no tengas creado ninguna vista, o aun no hayas utilizado Google Analytics, a continuación, se explica cómo se crea una vista nueva.\n",
    "\n",
    "Si por el contrario, ya dispones de una vista de seguimiento de una página de Google Analitics, salta al apartado: **Asignar credenciales a la vista**.\n",
    "\n"
   ]
  },
  {
   "cell_type": "markdown",
   "metadata": {
    "id": "_uWMMMzCja8G"
   },
   "source": [
    "### Crear una nueva Vista\n",
    "\n",
    "Entra en tu cuenta de Google Analytics des del enlace: https://analytics.google.com/analytics/web/ \n",
    "\n",
    "En primer lugar hay que crear un cuenta, para ello clica en el botón de \"Configurar\" que encontrarás abajo en la izquierda. Clica en la opción de \"Crear Cuenta\". Da un nombre a tu nueva cuenta de Google Analytics, por ejemplo: \"Test IL3\" y aprieta la opción de \"Siguiente\".\n",
    "\n",
    "Da un nombre a la Propiedad, en este caso se trata de un nombre representativo de la web que quieres monitorizar. Por ejemplo “Web test datos”. Pon la zona horaria, país y moneda (que represente la web).\n",
    "\n"
   ]
  },
  {
   "cell_type": "markdown",
   "metadata": {
    "id": "1wyKmpeajbxC"
   },
   "source": [
    "> **Importante**: En este punto debes apretar el botón de \"Opciones avanzadas\" que encontrarás justo debajo. Activa el interruptor (situado en la derecha) llamado Crear una propiedad “Universal Analytics”. En continuación necesitaras la URL que contendrá la página que quieres seguir con Google Analytics. SI no tienes ninguna página, puedes crear un blog con en https://www.blogger.com/ y usar al URL de tu blog. Introduce la URL y clica en \"Siguiente\". SE crearan dos vistas, la universal y la Google Analytics 4.\n",
    "\n"
   ]
  },
  {
   "cell_type": "markdown",
   "metadata": {
    "id": "rjM5ZhvQjcTC"
   },
   "source": [
    "Aporta la información de web (opcional), dale a \"Aceptar\".  A continuación, viene el apartad de “Condiciones de Servicio de Google Analytics”. Cambia el país según convenga, marca la RGPD, resto condiciones y botón de \"Acepto\".\n",
    "\n",
    "Si todo ha ido bien, ya tienes la nueva Vista asociada a la URL que quieres seguir. Para acceder a la vista, selecciona la nueva cuenta en la pestaña superior: \"Test IL3\" > \"Web test datos\" > \"Todos los datos de sitios web\" > \"Abrir\". \n",
    "\n",
    "Los dos últimos pasos consisten en obtener el ID de la vista y en habilitar el acceso con las credenciales creadas en el apartado de Google Developer Console.\n",
    "\n",
    "Para ello, dentro de la nueva vista creada, ve a la pestaña de \"Administrar\" (icono abajo izquierdo). Deberían aparecer 3 columnas: Cuenta, Propiedad, \"Todos los datos de sitios web\". Clica en el menú \"Configuración de la vista\" (de la última columna). Copia el identificador bajo el título de \"IDE de vista\", en mi caso 237871726. Este ID lo necesitaras en la parte de descarga de datos.\n",
    "\n"
   ]
  },
  {
   "cell_type": "markdown",
   "metadata": {
    "id": "057_OCc8jdAJ"
   },
   "source": [
    "### Introducir la etiqueta global en tu sitio web \n",
    "\n",
    "Para monitorizar el sitio web deseado, debes insertar un script de seguimiento en la cabecera o sección <HEAD> de tu página web.  En el caso de utilizar Blogger, ve al siguiente apartado.\n",
    "\n",
    "Para obtener este script es cambiar la Propiedad a la versión Google analytics 4. Para ello, des de Google Analytics, cambia la vista de la cuenta en la pestaña superior: \"Test IL3\" > \"Web test datos – GA4\" > \"Todos los datos de sitios web\" > \"Abrir\".  Abre la pestaña \"Administrar\" y en la segunda Columna de propiedad (verás que sólo hay dos columnas), clica de \"Flujo de datos\" y a continuación abre el flujo que has creado asociado a la página web.\n",
    "\n",
    "Dentro de este flujo verás que en el partado \"Añadir etiquetas en la página\", abre el menú asociado a \"Etiqueta global de sitio web (gtag.js)\".\n",
    "\n",
    "Aparecerá un script similar al siguiente:\n",
    "\n",
    "```\n",
    "<!-- Global site tag (gtag.js) - Google Analytics -->\n",
    "<script async src=\"https://www.googletagmanager.com/gtag/js?id=G-ZS336G6MS8\"></script>\n",
    "<script>\n",
    "  window.dataLayer = window.dataLayer || [];\n",
    "  function gtag(){dataLayer.push(arguments);}\n",
    "  gtag('js', new Date());\n",
    "\n",
    "  gtag('config', 'G-ZS336G6MS8');\n",
    "</script>\n",
    "```\n",
    "\n",
    "Copia este script y pégalo en la cabecera de tu página web.\n",
    "\n",
    "Debes hacer este paso de pegar el script, tantas veces como paginas tenga tu web.\n"
   ]
  },
  {
   "cell_type": "markdown",
   "metadata": {
    "id": "jUQgqVKOjdWs"
   },
   "source": [
    "### Introducir etiqueta global en Blogger.\n",
    "\n",
    "En el caso de Blogger, una vez hayas creado el Blog dentro de Blogger, selecciona el blog a seguir (Menú superior izquierda). Entra dentro de \"Configuración\".\n",
    "\n",
    "En \"Opciones básicas\", verás el apartado: \"Identificador de propiedad de Google Analytics\". Clica en el texto e introduce el Identificador de Seguimiento. Este código tiene formato \"UA-XXXXXXX-X\" y está dentro de la plataforma de Google Analytics, pestaña \"Administrar\" (abajo izquierda) > segunda Columna \"Propiedad\" > \"Configuración de la propiedad\". El código UA-XXXXXX-X qeuda bajo el título de \"ID de seguimiento\"..\n"
   ]
  },
  {
   "cell_type": "markdown",
   "metadata": {
    "id": "AlQfhRytjsL-"
   },
   "source": [
    "### Asignar credenciales a la vista\n",
    "\n",
    "Tanto en el caso que hayas creado una vista nueva, como en el que ya tuvieras una disponible, el último paso consiste en asignar las credenciales creadas a la vista o Propiedad.\n",
    "\n",
    "Accede a la vista mediante la pestaña superior: \"Test IL3\" > \"Web test datos\" > \"Todos los datos de sitios web\" > \"Abrir\". \n",
    "\n",
    "Clica en \"Administrar\" (abajo izquierda) y clica en el menú \"Gestión de usuarios de vistas\".\n",
    "\n",
    "Añade un nuevo usuario con el icono de + (arriba derecha) > Añadir usuarios. \n",
    "\n",
    "Pega el correo obtenido en la generación de credenciales en la sección de \"Google Developer Console\" (también puedes encontrar el correo en el fichero json son las credenciales. En mi caso el correo es: ga-il3-test@ga-master-il3.iam.gserviceaccount.com . Debes deseleccionar la opción de \"Notificar a los usuarios nuevos por correo electrónico\", ya que no aplica en este caso. Clica en \"Añadir\".\n",
    "\n",
    "> **Importante**: Ahora, el tráfico web ya quedará registrado. Puedes comporbarlo en los informes en Tiempo real de Google analytics.\n"
   ]
  },
  {
   "cell_type": "markdown",
   "metadata": {
    "id": "uNp0KfRlVVkP"
   },
   "source": [
    "## 1.3.3. Acceso a Google Analytics des de Python\n",
    "\n",
    "Para acceder a los datos de Google Analytics, vas a necesitar las credenciales que has generado en los apartado anteriores (arxivo: \"ga-master-il3-xxxxxxxxxxx.json\").\n",
    "\n",
    "Sube este archivo a Colab (o en tu carpeta local de Jupyter Notebook) a través del icono de Files (menú izquierda) > Icono de \"Upload Session Storage\" > busca el archivo \"ga-master-il3-xxxxxxxxxxx.json\" > \"Aceptar”\n",
    "\n",
    "Una vez subido, carga las credenciales con el siguiente código.\n",
    "\n",
    "Cargamos las librerías.\n"
   ]
  },
  {
   "cell_type": "code",
   "execution_count": null,
   "metadata": {
    "id": "ZgbkuPbaoyzO"
   },
   "outputs": [],
   "source": [
    "import pandas as pd\n",
    "import numpy as np\n",
    "import json\n",
    "import os\n",
    "from google.colab import drive\n",
    "from apiclient.discovery import build\n",
    "from oauth2client.service_account import ServiceAccountCredentials"
   ]
  },
  {
   "cell_type": "markdown",
   "metadata": {
    "id": "sNVbWaONo1Is"
   },
   "source": [
    "\n",
    "Leemos las credenciales.\n"
   ]
  },
  {
   "cell_type": "code",
   "execution_count": null,
   "metadata": {
    "id": "O-0wYp0fo0y7"
   },
   "outputs": [],
   "source": [
    "# por simplicidad he cambiado el nombre del fichero a \"ga-data3.json\". \n",
    "#cambia este por tu nombre de foichero.\n",
    "\n",
    "with open('ga-data3.json') as jsonfile:\n",
    "    KEY_DATA = json.load(jsonfile)"
   ]
  },
  {
   "cell_type": "markdown",
   "metadata": {
    "id": "eEtfNvx6r4eB"
   },
   "source": [
    "\n",
    "Se define la funciona de obtención de credenciales de Google Analytics.\n"
   ]
  },
  {
   "cell_type": "code",
   "execution_count": null,
   "metadata": {
    "id": "pywTDCWPr30s"
   },
   "outputs": [],
   "source": [
    "SCOPES = ['https://www.googleapis.com/auth/analytics.readonly']\n",
    "\n",
    "def initialize_analyticsreporting():\n",
    "  credentials = ServiceAccountCredentials.from_json_keyfile_dict(KEY_DATA, SCOPES)\n",
    "  analytics = build('analyticsreporting', 'v4', credentials=credentials)\n",
    "  return analytics"
   ]
  },
  {
   "cell_type": "markdown",
   "metadata": {
    "id": "8hO3BCIksNiW"
   },
   "source": [
    "\n",
    "Se cargan las credenciales (¡¡¡paso crítico!!!).\n"
   ]
  },
  {
   "cell_type": "code",
   "execution_count": null,
   "metadata": {
    "colab": {
     "base_uri": "https://localhost:8080/"
    },
    "id": "kVNnGaPdsM1U",
    "outputId": "8e01ff3c-20cb-4742-8201-91be058af519"
   },
   "outputs": [],
   "source": [
    "informe = initialize_analyticsreporting()\n",
    "\n",
    "type(informe)"
   ]
  },
  {
   "cell_type": "markdown",
   "metadata": {
    "id": "o2ryAXNas73M"
   },
   "source": [
    "\n",
    "La clase anterior dberia ser del tipo : googleapiclient.discovery.Resource.\n",
    "\n",
    "Si todo ha ido bien, creamos las funciones de obtención del informe y parseado de los resultados.\n"
   ]
  },
  {
   "cell_type": "code",
   "execution_count": null,
   "metadata": {
    "id": "z-t58W1usFXc"
   },
   "outputs": [],
   "source": [
    "# Este código es personalizable\n",
    "\n",
    "def get_report(analytics, view_id, dimensionVar, startDateVar, endDateVar, pageTokenVar):\n",
    "  return analytics.reports().batchGet(\n",
    "      body={\n",
    "        'reportRequests': [\n",
    "        {\n",
    "          'viewId': view_id,\n",
    "          'dateRanges': [{'startDate': startDateVar, 'endDate': 'today'}],\n",
    "          'metrics': [{'expression': 'ga:entrances'},{'expression': 'ga:pageviews'},{'expression': 'ga:sessions'},{'expression': 'ga:users'}],\n",
    "          'dimensions': [{'name': dimensionVar}],\n",
    "          'pageSize': 50000,\n",
    "          'pageToken': pageTokenVar,\n",
    "          'samplingLevel': 'LARGE'\n",
    "        }]\n",
    "      }\n",
    "  ).execute()\n",
    "\n",
    "def handle_report(analytics,view_id, dimensionVar='ga:pagePath', startDateVar='7daysAgo', endDateVar='today', pageTokenVar='0', rows=[]):  \n",
    "    response = get_report(analytics, view_id, dimensionVar, startDateVar, endDateVar, pageTokenVar)\n",
    "\n",
    "    #Header, Dimensions Headers, Metric Headers \n",
    "    columnHeader = response.get(\"reports\")[0].get('columnHeader', {})\n",
    "    dimensionHeaders = columnHeader.get('dimensions', [])\n",
    "    metricHeaders = columnHeader.get('metricHeader', {}).get('metricHeaderEntries', [])\n",
    "\n",
    "    #Pagination\n",
    "    pagetoken = response.get(\"reports\")[0].get('nextPageToken', None)\n",
    "    \n",
    "    #Rows\n",
    "    rowsNew = response.get(\"reports\")[0].get('data', {}).get('rows', [])\n",
    "    rows = rows + rowsNew\n",
    "    print(\"len(rows): \" + str(len(rows)))\n",
    "\n",
    "    #Recursivly query next page\n",
    "    if pagetoken != None:\n",
    "        return handle_report(analytics,pagetoken,rows)\n",
    "    else:\n",
    "        #nicer results\n",
    "        nicerows=[]\n",
    "        for row in rows:\n",
    "            dic={}\n",
    "            dimensions = row.get('dimensions', [])\n",
    "            dateRangeValues = row.get('metrics', [])\n",
    "\n",
    "            for header, dimension in zip(dimensionHeaders, dimensions):\n",
    "                dic[header] = dimension\n",
    "\n",
    "            for i, values in enumerate(dateRangeValues):\n",
    "                for metric, value in zip(metricHeaders, values.get('values')):\n",
    "                    if ',' in value or ',' in value:\n",
    "                        dic[metric.get('name')] = float(value)\n",
    "                    else:\n",
    "                        dic[metric.get('name')] = int(value)\n",
    "            nicerows.append(dic)\n",
    "        return nicerows\n"
   ]
  },
  {
   "cell_type": "markdown",
   "metadata": {
    "id": "cIYSj3MkqFGt"
   },
   "source": [
    "Copia tu ID de vista en la siguiente variable: ID_VISTA\n",
    "\n",
    "Recuerda que se indica como obtener este ID en el apartado \"Crear una nueva Vista\".\n"
   ]
  },
  {
   "cell_type": "code",
   "execution_count": null,
   "metadata": {
    "colab": {
     "base_uri": "https://localhost:8080/"
    },
    "id": "cAzWXNt9qIxG",
    "outputId": "6c789352-fe26-43e1-e992-6b1e3cf1a106"
   },
   "outputs": [],
   "source": [
    "# prueba con tu ID de vista\n",
    "ID_VISTA = \"237871726\" \n",
    "\n",
    "rows = handle_report(informe,ID_VISTA,dimensionVar='ga:pagePath',startDateVar='7daysAgo',endDateVar='today')\n",
    "dfanalytics = pd.DataFrame(list(rows))"
   ]
  },
  {
   "cell_type": "markdown",
   "metadata": {
    "id": "3Kd0w79G9NLt"
   },
   "source": [
    "> **Importante**: Ten en cuenta que si has insertado la etiqueta global en tu sitio web hace poco tiempo, hasta al cabo de unas horas (día siguiente) no apareceran los datos solicitados. Obviamente, también es importante que generes tráfico en tu sitio web.\n"
   ]
  },
  {
   "cell_type": "code",
   "execution_count": null,
   "metadata": {
    "colab": {
     "base_uri": "https://localhost:8080/",
     "height": 111
    },
    "id": "HowGnNPLr0xI",
    "outputId": "267ed43e-83c3-4f43-b58c-d6e030b754bc"
   },
   "outputs": [],
   "source": [
    "dfanalytics"
   ]
  },
  {
   "cell_type": "markdown",
   "metadata": {
    "id": "L8KkDe1z3OaX"
   },
   "source": [
    "\n",
    "Puedes probar con otras dimensiones, por ejemplo:\n",
    "\n",
    "- 'ga:browser'\n",
    "- 'ga:sourceMedium'\n",
    "\n"
   ]
  },
  {
   "cell_type": "code",
   "execution_count": null,
   "metadata": {
    "colab": {
     "base_uri": "https://localhost:8080/"
    },
    "id": "tyG8hrgP3lwk",
    "outputId": "23d4b734-d809-4d6b-a1be-f4f5e28550db"
   },
   "outputs": [],
   "source": [
    "rows = handle_report(informe,ID_VISTA,dimensionVar='ga:sourceMedium',startDateVar='7daysAgo',endDateVar='today')\n",
    "dfanalytics = pd.DataFrame(list(rows))"
   ]
  },
  {
   "cell_type": "code",
   "execution_count": null,
   "metadata": {
    "colab": {
     "base_uri": "https://localhost:8080/",
     "height": 111
    },
    "id": "edwKUlhB32SE",
    "outputId": "1c1c84a3-8568-408e-8827-a69cfbf0c6ef"
   },
   "outputs": [],
   "source": [
    "dfanalytics"
   ]
  },
  {
   "cell_type": "markdown",
   "metadata": {
    "id": "4Lwv6FGB3nT4"
   },
   "source": [
    "\n",
    "O incluso cambiando de fechas y ID de vista de otra web donde has habilitado las mismas credenciales.\n",
    "\n"
   ]
  },
  {
   "cell_type": "code",
   "execution_count": null,
   "metadata": {
    "colab": {
     "base_uri": "https://localhost:8080/"
    },
    "id": "wGkSD37Uu2YQ",
    "outputId": "47a0d4d2-cb02-4219-9998-bf48575a8903"
   },
   "outputs": [],
   "source": [
    "ID_VISTA = \"30664139\"\n",
    "\n",
    "rows = handle_report(informe,ID_VISTA,dimensionVar='ga:browser',startDateVar='2016-01-01',endDateVar='today')\n",
    "dfanalytics = pd.DataFrame(list(rows))\n"
   ]
  },
  {
   "cell_type": "code",
   "execution_count": null,
   "metadata": {
    "colab": {
     "base_uri": "https://localhost:8080/",
     "height": 142
    },
    "id": "i7qh1gLr2mhz",
    "outputId": "fef30bef-1f60-460b-a45d-0bf350d579a5"
   },
   "outputs": [],
   "source": [
    "dfanalytics"
   ]
  },
  {
   "cell_type": "markdown",
   "metadata": {
    "id": "6uK0ca1f42L4"
   },
   "source": [
    "\n",
    "Para aprender más opciones de reports, métricas y dimeniones de interés, puedes consultar la siguiente referencia:\n",
    "\n",
    "- https://janakiev.com/blog/python-google-analytics/\n",
    "\n"
   ]
  },
  {
   "cell_type": "markdown",
   "metadata": {
    "id": "C-AMazPq4Htt"
   },
   "source": [
    "\n",
    "## Enlaces de interés\n",
    "\n",
    "- [Información de la API](https://developers.google.com/analytics?hl=es)\n",
    "- [Google Analytics Access from Google Colab](https://www.youtube.com/watch?v=msEXSJGMjf4)\n",
    "- [Getting started with the Google Analytics Reporting API in Python](https://www.themarketingtechnologist.co/getting-started-with-the-google-analytics-reporting-api-in-python/)\n",
    "- [Submitting your first Google Analytics Reporting API Request](https://medium.com/analytics-for-humans/submitting-your-first-google-analytics-reporting-api-request-cdda19969940)\n",
    "- [Use the Google Analytics API with Python](http://www.marinamele.com/use-google-analytics-api-with-python)\n",
    "- [Google Analytics, Python, Pandas, Plotly: Get Started](https://canonicalized.com/google-analytics-python-pandas-plolty)\n",
    "- [Google Analytics Setup Guide](https://bluerivermountains.com/en/google-analytics-setup)\n"
   ]
  },
  {
   "cell_type": "code",
   "execution_count": null,
   "metadata": {
    "id": "Yr4xYapG7XQr"
   },
   "outputs": [],
   "source": []
  }
 ],
 "metadata": {
  "colab": {
   "collapsed_sections": [
    "U75KhoMvVVod",
    "HF-DJJD5VVx7"
   ],
   "name": "modulo3_tema1_dd_03_ganalytics.ipynb",
   "provenance": [],
   "toc_visible": true
  },
  "kernelspec": {
   "display_name": "mbdds_rpy20",
   "language": "python",
   "name": "mbdds_rpy20"
  },
  "language_info": {
   "codemirror_mode": {
    "name": "ipython",
    "version": 3
   },
   "file_extension": ".py",
   "mimetype": "text/x-python",
   "name": "python",
   "nbconvert_exporter": "python",
   "pygments_lexer": "ipython3",
   "version": "3.6.9"
  }
 },
 "nbformat": 4,
 "nbformat_minor": 1
}
