{
  "cells": [
    {
      "cell_type": "markdown",
      "metadata": {
        "id": "eJfiC-K0VViA"
      },
      "source": [
        "\n",
        "# **Gestión de datos y datos digitales**\n",
        "### **Autor: Ferran Carrascosa Mallafrè**\n",
        "\n",
        "---\n",
        "---\n",
        "\n",
        "<!-- script html for image -->\n",
        "\n",
        "<center>\n",
        "\n",
        "\n",
        "<img src=\"https://upload.wikimedia.org/wikipedia/commons/thumb/c/c9/Star_Wars%2C_%C3%A9pisode_III_-_La_Revanche_des_Sith_logo.jpg/220px-Star_Wars%2C_%C3%A9pisode_III_-_La_Revanche_des_Sith_logo.jpg\"  width=\"500\" height=\"150\"/>\n",
        "\n",
        "\n",
        "<br>\n",
        "\n",
        "Fuente de la imagen: [https://es.wikipedia.org](https://es.wikipedia.org/wiki/Star_Wars:_Episodio_III_-_La_venganza_de_los_Sith)\n",
        "\n",
        "</center>\n",
        "\n",
        "<br>"
      ]
    },
    {
      "cell_type": "markdown",
      "metadata": {
        "id": "w7y6DiIjVViK"
      },
      "source": [
        "# **Índice**\n",
        "\n",
        "---\n",
        "---\n",
        "\n",
        "> [Gestión de datos y datos digitales](#scrollTo=eJfiC-K0VViA&uniqifier=1)\n",
        "<br>\n",
        ">>\n",
        ">> [Preparación del Entorno](#scrollTo=UkU8akIVtlbn&line=1&uniqifier=1) \\\\\n",
        ">>   \\\\\n",
        ">> [1.4. Social analytics: Hootsuite, Twitter analytics y Facebook insights](#scrollTo=U3oTMspTVVjE) \\\\\n",
        ">>\n",
        ">>> [1.4.1 Twitter analytics](#scrollTo=lsAECn4Bbkil&uniqifier=1) \\\\\n",
        ">>>\n",
        ">>> [1.4.2. Facebook insights](#scrollTo=921VyHG6bki3&uniqifier=1) \\\\\n",
        ">>>\n",
        ">>> [1.4.3. Hootsuite](#scrollTo=DHP_jCRpbki6&uniqifier=1)\n"
      ]
    },
    {
      "cell_type": "markdown",
      "metadata": {
        "id": "UkU8akIVtlbn"
      },
      "source": [
        "# Preparación del entorno\n",
        "\n",
        "Cargamos las librerías."
      ]
    },
    {
      "cell_type": "code",
      "execution_count": null,
      "metadata": {
        "id": "lwzDD8-YWLky"
      },
      "outputs": [],
      "source": [
        "!pip install tweepy --upgrade\n",
        "\n",
        "import tweepy\n",
        "\n",
        "print(tweepy.__version__)\n"
      ]
    },
    {
      "cell_type": "code",
      "execution_count": 3,
      "metadata": {
        "id": "ZbXaTr6Tbkik"
      },
      "outputs": [],
      "source": [
        "import json\n",
        "import pymongo\n",
        "import tweepy\n",
        "import urllib\n",
        "import time\n",
        "\n",
        "import pandas as pd\n",
        "import numpy as np"
      ]
    },
    {
      "cell_type": "markdown",
      "metadata": {
        "id": "U3oTMspTVVjE"
      },
      "source": [
        "# 1.4. Social analytics: Hootsuite, Twitter analytics y Facebook insights\n",
        "\n",
        "\n",
        "\n"
      ]
    },
    {
      "cell_type": "markdown",
      "metadata": {
        "id": "lsAECn4Bbkil"
      },
      "source": [
        "## 1.4.1 Twitter analytics\n",
        "\n",
        "Para obtener datos de Twitter des de Python se puede utilizar su propia API.\n",
        "\n",
        "Por ejemplo: \n",
        "\n",
        "```\n",
        "https://api.twitter.com/oauth/authenticate?oauth_token=XXXXXXXXXXXXXX\n",
        "\n",
        "https://api.twitter.com/1.1/followers/ids.json?cursor=-1&screen_name=my_user_name&count=5000\n",
        "```\n",
        "\n",
        "Construir estas consultas, no siempre es fácil. Puede consultar la API completa en https://developer.twitter.com/en/docs/api-reference-index . Una forma de facilitar estas consultas es utilizar la librería **tweepy**. \n"
      ]
    },
    {
      "cell_type": "markdown",
      "metadata": {
        "id": "pDcm7b8abkil"
      },
      "source": [
        "### Autenticación\n",
        "\n",
        "Para conectarse a la  API  de Twitter (de tipo RESTful), es necesario autenticarse. Para obtener los datos necesarios se pueden seguir los siguientes pasos:\n",
        "\n",
        "- Accede a la siguiente url: https://developer.twitter.com  e identifícate con tus credenciales de twitter (si no las tienes, entonces ha llegado el momento de abrirte una cuenta).\n",
        "- Crea una nueva App. Esto creara las claves API (consumer_key, consumer_secret y bearer_token)\n"
      ]
    },
    {
      "cell_type": "code",
      "execution_count": 4,
      "metadata": {
        "id": "buZfBMJebkim"
      },
      "outputs": [],
      "source": [
        "# copia tu bearer_token\n",
        "bearer_token = 'XXXXXXXXXXXXXXXXXXXXXXXXXXXXXXXXXXXXXXXXXXXXXXXXXXXXXXXXXXXXXXXXXXXXXXXXXXXXXXXXXXXX'\n"
      ]
    },
    {
      "cell_type": "markdown",
      "metadata": {
        "id": "FhybcL6jbkim"
      },
      "source": [
        "Ahora se autentica en Twitter."
      ]
    },
    {
      "cell_type": "code",
      "execution_count": 5,
      "metadata": {
        "id": "cyt1w4E8Wcc3"
      },
      "outputs": [],
      "source": [
        "client = tweepy.Client(bearer_token=bearer_token,wait_on_rate_limit=True)\n"
      ]
    },
    {
      "cell_type": "markdown",
      "metadata": {
        "id": "RUKyMtbvbkin"
      },
      "source": [
        "### Consulta del perfil de un usuario\n",
        "\n",
        "En la nueva API V2, en la llamda a `get_user()`, es necesario incluir las características del usuario en el parámetro user `user_fields` y de sus tweets   en `tweet_fields`.\n",
        "\n",
        "Verificamos que la api devuelve resultados consultando el perfil de twitter: @PyLadiesBCN.\n"
      ]
    },
    {
      "cell_type": "code",
      "execution_count": 6,
      "metadata": {
        "id": "YVq1H1wFbkin"
      },
      "outputs": [],
      "source": [
        "USER_NAME = \"PyLadiesBCN\"\n",
        "user = client.get_user(username=USER_NAME, \n",
        "                       user_fields=[\"created_at\",\"description\",\"entities\",\"id\",\"location\",\"name\",\"pinned_tweet_id\"\n",
        "                       ,\"profile_image_url\",\"protected\",\"public_metrics\",\"url\",\"username\",\"verified\",\"withheld\"])\n"
      ]
    },
    {
      "cell_type": "markdown",
      "metadata": {
        "id": "wvxtFfF7bkin"
      },
      "source": [
        "El nombre."
      ]
    },
    {
      "cell_type": "code",
      "execution_count": null,
      "metadata": {
        "id": "Uc1af3YNbkio"
      },
      "outputs": [],
      "source": [
        "user.data.name"
      ]
    },
    {
      "cell_type": "markdown",
      "metadata": {
        "id": "vxAz_wAsbkio"
      },
      "source": [
        "El id."
      ]
    },
    {
      "cell_type": "code",
      "execution_count": null,
      "metadata": {
        "id": "9PNMNNgJbkio"
      },
      "outputs": [],
      "source": [
        "user.data.id"
      ]
    },
    {
      "cell_type": "markdown",
      "metadata": {
        "id": "uOy3QdK4bkip"
      },
      "source": [
        "La fecha de creación del perfil."
      ]
    },
    {
      "cell_type": "code",
      "execution_count": 9,
      "metadata": {
        "colab": {
          "base_uri": "https://localhost:8080/"
        },
        "id": "RaqIAYIIbkip",
        "outputId": "ed1ddb70-59dc-4cea-ae39-1474985de8db"
      },
      "outputs": [
        {
          "output_type": "execute_result",
          "data": {
            "text/plain": [
              "datetime.datetime(2014, 2, 21, 19, 15, 16, tzinfo=datetime.timezone.utc)"
            ]
          },
          "metadata": {},
          "execution_count": 9
        }
      ],
      "source": [
        "user.data.created_at"
      ]
    },
    {
      "cell_type": "markdown",
      "metadata": {
        "id": "GzH04dNIbkip"
      },
      "source": [
        "El número de perfiles que está siguiendo."
      ]
    },
    {
      "cell_type": "code",
      "execution_count": null,
      "metadata": {
        "id": "VvhJAcnYbkiq"
      },
      "outputs": [],
      "source": [
        "user.data.public_metrics[\"following_count\"]"
      ]
    },
    {
      "cell_type": "markdown",
      "metadata": {
        "id": "a3qwXScJbkiq"
      },
      "source": [
        "El número de seguidores de este perfil."
      ]
    },
    {
      "cell_type": "code",
      "execution_count": null,
      "metadata": {
        "id": "HbGGuHTJbkiq"
      },
      "outputs": [],
      "source": [
        "user.data.public_metrics[\"followers_count\"]"
      ]
    },
    {
      "cell_type": "markdown",
      "metadata": {
        "id": "ftGETrcKbkir"
      },
      "source": [
        "Todo el json del perfil del usuario."
      ]
    },
    {
      "cell_type": "code",
      "execution_count": null,
      "metadata": {
        "id": "WHBKYwlIKMV7"
      },
      "outputs": [],
      "source": [
        "user.data.data"
      ]
    },
    {
      "cell_type": "markdown",
      "metadata": {
        "id": "-qLfC8qvbkis"
      },
      "source": [
        "Además, a través de urllib se puede recuperar más información de interés, como la imagen del perfil."
      ]
    },
    {
      "cell_type": "code",
      "execution_count": null,
      "metadata": {
        "id": "s9KKVOsabkis"
      },
      "outputs": [],
      "source": [
        "img_url = user.data.profile_image_url\n",
        "print(img_url)"
      ]
    },
    {
      "cell_type": "markdown",
      "metadata": {
        "id": "FBBCUSfybkis"
      },
      "source": [
        "Guardamos la imagen en un fichero y la printamos en el notebook."
      ]
    },
    {
      "cell_type": "code",
      "execution_count": null,
      "metadata": {
        "id": "LaOn_m7Mbkis"
      },
      "outputs": [],
      "source": [
        "f = open('scraped_image','wb')\n",
        "f.write(urllib.request.urlopen(img_url).read())\n",
        "f.close()\n",
        "\n",
        "%matplotlib inline\n",
        "import matplotlib.pyplot as plt\n",
        "im=plt.imread('scraped_image')\n",
        "plt.imshow(im)\n",
        "plt.title(user.data.name,size=16)"
      ]
    },
    {
      "cell_type": "markdown",
      "metadata": {
        "id": "A61Zvtq8bkis"
      },
      "source": [
        "### Consulta de los seguidores de un usuario\n",
        "\n",
        "Para obtener la lista de los ids de los seguidores, se puede utilizar la función `client.get_users_followers()`. La función retorna por defecto hasta 100 ids, se puede aumentar hasta un máximo de 1.000 ids con el parámetro `max_results`.\n",
        "\n",
        "Para recuperar todos los seguidores de @pyladies, que tiene 1.280 seguidores, se necesita iterar más de una vez. Para ello, en tweepy puedes utilizar el objeto Paginator. Este recorre las distintas paginas de forma implícita sin problemas de límites. \n",
        "\n",
        "No obstante, en caso de realizar varias veces la consulta, tweepy te va a dar un aviso de espera. Es habitual llegar a tiempos de espera de 15 minutos. Además, existe un límite de 500.000 twitts al mes.  Puedes consultar más sobre las [tasas de límites](https://developer.twitter.com/en/docs/twitter-api/rate-limits) en el enlace. \n"
      ]
    },
    {
      "cell_type": "code",
      "execution_count": null,
      "metadata": {
        "id": "Vam6hVlwjeYO"
      },
      "outputs": [],
      "source": [
        "ids = []\n",
        "\n",
        "# con limit=14 podemos descargar hasta 14*100 ids.\n",
        "for page in tweepy.Paginator(client.get_users_followers, user.data.id, max_results=100, limit = 14):\n",
        "  for response in page.data:\n",
        "    ids.append(response.data[\"id\"])\n",
        "\n",
        "len(ids)\n"
      ]
    },
    {
      "cell_type": "markdown",
      "metadata": {
        "id": "zhpSCmM3bkit"
      },
      "source": [
        "> *Importante*: El parámetro `wait_on_rate_limit=True` de la conexión con `tweepy.Client()` va a aplicar tiempos de espera que te informará, cuando sea necesario con un aviso del tipo: `Sleeping for 223 seconds."
      ]
    },
    {
      "cell_type": "code",
      "execution_count": null,
      "metadata": {
        "id": "TIreXstkbkit"
      },
      "outputs": [],
      "source": [
        "# ids de los followers\n",
        "ids[0:10]"
      ]
    },
    {
      "cell_type": "markdown",
      "metadata": {
        "id": "aI9jml4d2ocl"
      },
      "source": [
        "Antes de guardar los datos, en el caso de Colab se debe instalar MongoDB e iniciar el servicio:"
      ]
    },
    {
      "cell_type": "code",
      "execution_count": null,
      "metadata": {
        "id": "pHvokJpJ2jge"
      },
      "outputs": [],
      "source": [
        "!apt install mongodb >log\n",
        "!service mongodb start\n"
      ]
    },
    {
      "cell_type": "markdown",
      "metadata": {
        "id": "HMd-k0C1bkiu"
      },
      "source": [
        "Ahora Guardamos los datos de los ids en MongoDB.\n",
        "\n",
        "Para esto, conectamos a MongoDB, creamos la base 'twitter' y Collection 'twitter_users'.\n"
      ]
    },
    {
      "cell_type": "code",
      "execution_count": null,
      "metadata": {
        "id": "N25BpNs3bkiu"
      },
      "outputs": [],
      "source": [
        "document={}\n",
        "document['user'] = user.data.id\n",
        "document['followers'] = ids[:]\n",
        "\n",
        "# Create the connection to MongoDB\n",
        "try:\n",
        "    conn=pymongo.MongoClient()\n",
        "    print(\"Connection to Mongo Daemon successful!!!\")\n",
        "except pymongo.errors.ConnectionFailure:\n",
        "    print(\"Could not connect to MongoDB\")\n",
        "\n",
        "db = conn['twitter']\n",
        "collection = db['twitter_users']\n",
        "# collection.drop()\n",
        "collection.insert_one(document)"
      ]
    },
    {
      "cell_type": "code",
      "execution_count": null,
      "metadata": {
        "id": "pv4NkRQwbkiu"
      },
      "outputs": [],
      "source": [
        "collection.estimated_document_count()"
      ]
    },
    {
      "cell_type": "code",
      "execution_count": 20,
      "metadata": {
        "id": "-0XavExabkiv"
      },
      "outputs": [],
      "source": [
        "doc = collection.find_one()"
      ]
    },
    {
      "cell_type": "code",
      "execution_count": null,
      "metadata": {
        "id": "SYyyfXwlbkiw"
      },
      "outputs": [],
      "source": [
        "doc['user']"
      ]
    },
    {
      "cell_type": "code",
      "execution_count": null,
      "metadata": {
        "id": "B4pTOSzdbkix"
      },
      "outputs": [],
      "source": [
        "doc['followers'][0:10]"
      ]
    },
    {
      "cell_type": "markdown",
      "metadata": {
        "id": "jNKMihSoqDje"
      },
      "source": [
        "### Twitter Timeline\n",
        "\n",
        "La API V2 da distintos métodos de acceso al timeline. \n",
        "\n",
        "Para obtener los últimos 5 tweets de un usuario con su id:\n"
      ]
    },
    {
      "cell_type": "code",
      "execution_count": null,
      "metadata": {
        "id": "bvymn9F2c4s2"
      },
      "outputs": [],
      "source": [
        "# Replace user ID\n",
        "id = '2355227816'\n",
        "\n",
        "tweets = client.get_users_tweets(id=id, tweet_fields=[\"public_metrics\",\"context_annotations\",\"created_at\",\"geo\",\"lang\"],max_results =5)\n",
        "\n",
        "# Otros campos de teet disponibles:\n",
        "#\"context_annotations\",\"conversation_id\",\"id\",\"possibly_sensitive\",\"entities\",\"in_reply_to_user_id\",\"referenced_tweets\",\"reply_settings\",\"source\",\"withheld\"\n",
        "\n",
        "for tweet in tweets.data:\n",
        "    print(tweet)"
      ]
    },
    {
      "cell_type": "markdown",
      "metadata": {
        "id": "ny9AngckgrWV"
      },
      "source": [
        "Puedes ver [lista completa de campos por entidad](https://developer.twitter.com/en/docs/twitter-api/fields). También puedes ampliar algún campo de interés como [context_annotations](https://developer.twitter.com/en/docs/twitter-api/annotations/overview). \n",
        "\n",
        "Mediante `.search_recent_tweets()` se peuden descargar los tweets de los últimos 7 días sobre todo twitter a partir de una [consulta](https://github.com/twitterdev/getting-started-with-the-twitter-api-v2-for-academic-research/blob/main/modules/5-how-to-write-search-queries.md). En este caso vemos los tweets de los ultimos 7 días de @pythontrending que no sean re-tweets con la consulta: `\"from:pythontrending -is:retweet\"`."
      ]
    },
    {
      "cell_type": "code",
      "execution_count": null,
      "metadata": {
        "id": "vUyOyfh4sL4V"
      },
      "outputs": [],
      "source": [
        "# Replace with your own search query\n",
        "query = 'from:pythontrending -is:retweet'\n",
        "\n",
        "tweets = client.search_recent_tweets(query=query, tweet_fields=['context_annotations', 'created_at'], max_results=10)\n",
        "\n",
        "for tweet in tweets.data:\n",
        "    print(tweet.text)\n",
        "    if len(tweet.context_annotations) > 0:\n",
        "        print(tweet.context_annotations)"
      ]
    },
    {
      "cell_type": "markdown",
      "metadata": {
        "id": "bjlBKT-wsR93"
      },
      "source": [
        "O también, ver las estadísticas de cada tweet en formato dataframe, a través del normalizador de json a pandas: `pd.json_normalize()`."
      ]
    },
    {
      "cell_type": "code",
      "execution_count": null,
      "metadata": {
        "id": "BgjiJ4PShXWB"
      },
      "outputs": [],
      "source": [
        "df = pd.DataFrame()\n",
        "\n",
        "for tweet in tweets.data:\n",
        "  df = df.append(pd.json_normalize({'created_at':tweet.created_at, 'text':tweet.text, 'stats':tweet.public_metrics})) \n",
        "\n",
        "df.reset_index(drop=True, inplace=True)\n",
        "df"
      ]
    },
    {
      "cell_type": "markdown",
      "metadata": {
        "id": "buc7QrDKyaJl"
      },
      "source": [
        "> Para ampliar conocimientos de API V2 y el paquete tweepy, muy recomendables estos 2 tutoriales:\n",
        "\n",
        "- [Tutorial twitterdev](https://dev.to/twitterdev/a-comprehensive-guide-for-using-the-twitter-api-v2-using-tweepy-in-python-15d9).\n",
        "- [Tutorial Jan Kirenz](https://www.kirenz.com/post/2021-12-10-twitter-api-v2-tweepy-and-pandas-in-python/twitter-api-v2-tweepy-and-pandas-in-python/)."
      ]
    },
    {
      "cell_type": "markdown",
      "metadata": {
        "id": "A74ZHnGpbkiy"
      },
      "source": [
        "### StreamingClient\n",
        "\n",
        "La clase para generar un flujo de captura de datos en tiempo real de la API V2 se llama [StreamingClient()](https://docs.tweepy.org/en/stable/streamingclient.html).\n",
        "\n",
        "Esta clase se acompaña con métodos `sample()` para [muestrear](https://developer.twitter.com/en/docs/twitter-api/tweets/volume-streams/introduction) y `filter()` para [filtrar](https://developer.twitter.com/en/docs/twitter-api/tweets/filtered-stream/introduction) los tweets en tiempo real. \n",
        "\n",
        "Para filtrar los tweets capturados, puedes ir a la [documentación de las consultas](https://developer.twitter.com/en/docs/twitter-api/tweets/filtered-stream/integrate/build-a-rule).\n",
        "\n",
        "Para seleccionar los campos retornados por filter() consulta la documentación de [filter()](https://developer.twitter.com/en/docs/twitter-api/tweets/filtered-stream/api-reference/get-tweets-search-stream)\n",
        "\n",
        "Esta clase, que se ejecuta manteniendo una conexión abierta, se acompaña de un conjunto de eventos para gestionar su funcionalidad. La más relevantes son  `on_tweet()`, para capturar el contenido de los tweets, `on_error` para gestionar los errores o `on_connect` que captura el momento de inicio."
      ]
    },
    {
      "cell_type": "code",
      "execution_count": null,
      "metadata": {
        "id": "UGYR7bN10XnZ"
      },
      "outputs": [],
      "source": [
        "# declaramos la clase listener que va a instanciar tweepy.StreamingClient \n",
        "class listener(tweepy.StreamingClient):\n",
        "    # creamos un contador de twits capturados\n",
        "    def on_connect(self):\n",
        "        self.counter = 0\n",
        "        self.limit = 5\n",
        "    # evento que se ejeucta con cada tweet\n",
        "    def on_tweet(self, tweet):\n",
        "        print(tweet.text)\n",
        "        print(tweet.created_at)\n",
        "        print(self.counter)\n",
        "        self.counter += 1\n",
        "        if self.counter < self.limit:\n",
        "            return True\n",
        "        else:\n",
        "            self.disconnect()\n",
        "    def on_error(self, tweet):\n",
        "        print(tweet)\n",
        "\n",
        "# declaramos la instancia de tweepy.StreamingClient\n",
        "listen = listener(bearer_token,wait_on_rate_limit=True)\n",
        "\n",
        "# eliminamos las reglas previas\n",
        "printer_rules = listen.get_rules()\n",
        "if printer_rules.data is not None:\n",
        "  listen.delete_rules([str(i.id) for i in listen.get_rules().data])\n",
        "\n",
        "# declaramos la nueva regla\n",
        "listen.add_rules(tweepy.StreamRule('Putin'))\n",
        "# filtramos e indicamos los campos a recuperar.\n",
        "listen.filter(tweet_fields=[\"created_at\",\"text\"])\n"
      ]
    },
    {
      "cell_type": "markdown",
      "metadata": {
        "id": "CrCOjjpokGai"
      },
      "source": [
        "Se presenta un nuevo ejemplo donde se presenta el concepto de entidad, que permite capturar tweets asociados a lugares, por ejemplo: Barcelona."
      ]
    },
    {
      "cell_type": "code",
      "execution_count": null,
      "metadata": {
        "id": "EVBobsa_b3Id"
      },
      "outputs": [],
      "source": [
        "# eliminamos las reglas previas\n",
        "printer_rules = listen.get_rules()\n",
        "if printer_rules.data is not None:\n",
        "  listen.delete_rules([str(i.id) for i in listen.get_rules().data])\n",
        "\n",
        "# declaramos la nueva regla\n",
        "listen.add_rules(tweepy.StreamRule('entity:\"Barcelona\" -is:retweet'))\n",
        "# filtramos e indicamos los campos a recuperar.\n",
        "listen.filter(tweet_fields=[\"created_at\",\"text\"])\n"
      ]
    },
    {
      "cell_type": "markdown",
      "metadata": {
        "id": "-C2BQXkIbkiy"
      },
      "source": [
        "Puedes ver el detalle de la consulta `entity` en la documentación de [annotations](https://developer.twitter.com/en/docs/twitter-api/annotations/overview).\n"
      ]
    },
    {
      "cell_type": "markdown",
      "metadata": {
        "id": "LzxjkL5Qbkiz"
      },
      "source": [
        "\n",
        "Vemos ahora como guardar estos tweets en MongoDB database.\n",
        "\n",
        "Subimos el límite a 10 tweets con las menciones de \"Putin\".\n"
      ]
    },
    {
      "cell_type": "code",
      "execution_count": null,
      "metadata": {
        "id": "fSjbUyHvlO4g"
      },
      "outputs": [],
      "source": [
        "# declaramos la clase listener que va a instanciar tweepy.StreamingClient \n",
        "class listenerMDB(tweepy.StreamingClient):\n",
        "    # creamos un contador de twits capturados\n",
        "    def on_connect(self):\n",
        "        try:\n",
        "            self.conn=pymongo.MongoClient()\n",
        "            print(\"Connection to Mongo Daemon successful!!!\")\n",
        "        except pymongo.errors.ConnectionFailure:\n",
        "            print(\"Could not connect to MongoDB\")\n",
        "        self.db = self.conn['twitter_stream']\n",
        "        self.collection = self.db['tweets']\n",
        "        self.counter = 0\n",
        "        self.limit = 10\n",
        "    # evento que se ejeucta con cada tweet\n",
        "    def on_tweet(self, tweet):\n",
        "        document={'text':tweet.text, 'created':tweet.created_at, 'user_id':tweet.author_id}   \n",
        "        print(document)     \n",
        "        self.collection.insert_one(document) \n",
        "        self.counter += 1\n",
        "        if self.counter < self.limit:\n",
        "            return True\n",
        "        else:\n",
        "            self.disconnect()\n",
        "    def on_error(self, tweet):\n",
        "        print(tweet)\n",
        "\n",
        "# declaramos la instancia de tweepy.StreamingClient\n",
        "listen = listenerMDB(bearer_token,wait_on_rate_limit=True)\n",
        "\n",
        "# eliminamos las reglas previas\n",
        "printer_rules = listen.get_rules()\n",
        "if printer_rules.data is not None:\n",
        "  listen.delete_rules([str(i.id) for i in listen.get_rules().data])\n",
        "\n",
        "# declaramos la nueva regla\n",
        "listen.add_rules(tweepy.StreamRule('Putin'))\n",
        "# filtramos e indicamos los campos a recuperar.\n",
        "listen.filter(tweet_fields=[\"created_at\",\"text\",\"author_id\"])\n",
        "# ,\"username\""
      ]
    },
    {
      "cell_type": "code",
      "execution_count": null,
      "metadata": {
        "id": "nv8mZvMAbki1"
      },
      "outputs": [],
      "source": [
        "db = conn['twitter_stream']\n",
        "collection = db['tweets']\n",
        "collection.estimated_document_count()"
      ]
    },
    {
      "cell_type": "code",
      "execution_count": null,
      "metadata": {
        "id": "956M4Ps8bki2"
      },
      "outputs": [],
      "source": [
        "for doc in collection.find():\n",
        "    print(doc)"
      ]
    },
    {
      "cell_type": "markdown",
      "metadata": {
        "id": "ppBngyNTbki3"
      },
      "source": [
        "StreamingClient permite implementar acciones en base a eventos de twitter en tiempo real."
      ]
    },
    {
      "cell_type": "markdown",
      "metadata": {
        "id": "921VyHG6bki3"
      },
      "source": [
        "## 1.4.2. Facebook insights\n",
        "\n",
        "Facebook aporta un universo de APIs para poder obtener datos de su red social. La Facebook Insights API está orientada a realizar consultas de la plataforma de Marketing de Facebook. Esto incluye básicamente cualquier tipo de estadística que puedas encontrar en el Facebook Ad's Manager.\n",
        "\n",
        "Este tema no va a entrar en detalle en la uso de Facebooks insights, pero aporta las indicaciones básicas para que puedas hacerlo.\n",
        "\n",
        "### Generación del token de acceso\n",
        "\n",
        "Ves a la [Facebook Marketing API](https://developers.facebook.com/docs/marketing-apis/). y sigue los pasos para [crear una nueva Ads App](https://developers.facebook.com/docs/development/create-an-app).\n",
        "\n",
        "Asegúrate de añadir el producto \"Marketing API\". Una vez hecho, puedes acceder a tu pagina de gestión de ads page en  https://developers.facebook.com/apps/.\n",
        "\n",
        "Ahora ve a Settings > Basic. Copia y pega tu App ID y App Secret algún sitio seguro.\n",
        "\n",
        "Ve ahora a Products  > Marketing API > Tools. Selecciona ads_management and ads_read. Clica \"Get Token\". Tu token de acceso deberia aparecer en pantalla. Copia y pega este token en algún sitio seguro.\n",
        "\n",
        "### Consulta la API\n",
        "\n",
        "Las consultas utilizaran el paquete \"facebook_business\".\n",
        "\n"
      ]
    },
    {
      "cell_type": "code",
      "execution_count": null,
      "metadata": {
        "id": "JL054xwPbki4"
      },
      "outputs": [],
      "source": [
        "from facebook_business.api import FacebookAdsApi\n",
        "from facebook_business.adobjects.user import User\n",
        "\n",
        "app_id = 'XXXXXXXXXXXXX'\n",
        "app_secret = 'XXXXXXXXXXXXXXXXXXXXX'\n",
        "access_token = 'XXXXXXXXXXXXXXXXXXXXXXXXXXXXXXXXXXXXXXXXXXXXXXXXXXXXXXXXXXXXXXXXXXXXXXXXXXXXXXXXX'\n",
        "\n",
        "FacebookAdsApi.init(app_id, app_secret, access_token, api_version='v13.0')\n",
        "\n",
        "me = User(fbid='me')\n",
        "my_accounts = list(me.get_ad_accounts())\n",
        "print(my_accounts)"
      ]
    },
    {
      "cell_type": "markdown",
      "metadata": {
        "id": "kP2f9rBXbki4"
      },
      "source": [
        "Una vez ya tienes el id entonces puedes introducirlo en la sigueiente consulta de los datos de la App."
      ]
    },
    {
      "cell_type": "code",
      "execution_count": null,
      "metadata": {
        "id": "iUxMgUMbbki5"
      },
      "outputs": [],
      "source": [
        "from facebook_business.api import FacebookAdsApi\n",
        "from facebook_business.adobjects.adaccount import AdAccount\n",
        "\n",
        "app_id = 'XXXXXXXXXXXXX'\n",
        "app_secret = 'XXXXXXXXXXXXXXXXXXXXX'\n",
        "access_token = 'XXXXXXXXXXXXXXXXXXXXXXXXXXXXXXXXXXXXXXXXXXXXXXXXXXXXXXXXXXXXXXXXXXXXXXXXXXXXXXXXX'\n",
        "\n",
        "FacebookAdsApi.init(app_id, app_secret, access_token, api_version='v13.0')\n",
        "\n",
        "insights = AdAccount('act_XXXXXXXXXXXXXXX').get_insights()\n",
        "\n",
        "print(insights)"
      ]
    },
    {
      "cell_type": "markdown",
      "metadata": {
        "id": "C-AMazPq4Htt"
      },
      "source": [
        "En este ejemplo, la consulta aparece vacías. Para saber más sobre cómo funciona esta API, puedes consultar estos tutoriales:\n",
        "\n",
        "- [Getting Started with Facebook Marketing API](https://www.damiengonot.com/blog/getting-started-with-facebook-marketing-api)\n",
        "- [Guide to Facebook Insights API](https://www.damiengonot.com/blog/guide-facebook-insights-api)\n",
        "- [Guide to Facebook Insights API (parte 2)](https://www.damiengonot.com/blog/guide-facebook-insights-api-2)\n",
        "\n",
        "También pudes consultar los siguientes enlaces con información acerca del uso de las api's de facebook.\n",
        "\n",
        "### Enlaces de interés de Facebook API\n",
        "\n",
        "- [Leveraging Facebook Python API for Marketing Analytics](https://medium.com/analytics-and-data/leveraging-facebook-python-api-for-marketing-analytics-f4372f042112)\n",
        "- [Publishing Facebook Ads With Python Step by Step](https://gokhang1327.medium.com/publishing-facebook-ads-with-python-step-by-step-5c2a98ee4d58)\n",
        "- [facebook-python-business-sdk](https://github.com/facebook/facebook-python-business-sdk)\n",
        "- [Marketing API SDK. V9.0](https://developers.facebook.com/docs/marketing-api/reference/sdks/python/v9.0)\n",
        "\n",
        "\n"
      ]
    },
    {
      "cell_type": "markdown",
      "metadata": {
        "id": "DHP_jCRpbki6"
      },
      "source": [
        "## 1.4.3. Hootsuite\n",
        "\n",
        "Hootsuite es una herramienta que ayuda a gestionar tus cuentas de redes sociales, perfecta para Community Managers y todas aquellas personas que quieren sacarle el máximo partido a las plataformas de social media.\n",
        "\n",
        "Si quieres iniciarte en Hoostsuite, debes crear un usuario en https://hootsuite.com/ haciendo clic sobre \"Crear una cuenta nueva\". Posteriormente, puedes añadir una/o varias red/es social/es. Por ejemplo: Twitter, Facebook, LinkedIn...\n",
        "\n",
        "Una de las principales ventajas de Hoostsuite es que te permite programar publicaciones con antelación. Incluso con la opción de \"AutoSchedule\" el mismo entorno de Hoostsuite la hora de publicación que va a conseguir mayor impacto.\n",
        "\n",
        "También permite obtener estadísticas de las distintas redes sociales.\n",
        "\n",
        "### Espacio de desarrolladores de Hootsuite\n",
        "\n",
        "Puedes acceder al espacio de desarrolladores de aplicaciones basadas en Hootsuite en https://developer.hootsuite.com/.\n",
        "\n",
        "La REST API, se puede consultar en al siguiente página: https://developer.hootsuite.com/docs/using-rest-apis.\n",
        "\n",
        "### La librería hootsweet\n",
        "\n",
        "También está disponible una librería de python llamada Hootsweet que facilita la interacción con el API. Puede consultar la documentación con ejemplos de acceso en https://pypi.org/project/hootsweet/.\n"
      ]
    }
  ],
  "metadata": {
    "colab": {
      "collapsed_sections": [],
      "name": "modulo3_tema1_dd_04_sanalytics.ipynb",
      "provenance": []
    },
    "kernelspec": {
      "display_name": "Python 3",
      "language": "python",
      "name": "python3"
    },
    "language_info": {
      "codemirror_mode": {
        "name": "ipython",
        "version": 3
      },
      "file_extension": ".py",
      "mimetype": "text/x-python",
      "name": "python",
      "nbconvert_exporter": "python",
      "pygments_lexer": "ipython3",
      "version": "3.6.9"
    }
  },
  "nbformat": 4,
  "nbformat_minor": 0
}