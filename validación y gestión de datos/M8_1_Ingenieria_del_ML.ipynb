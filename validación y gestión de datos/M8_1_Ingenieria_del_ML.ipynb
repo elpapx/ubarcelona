{
  "nbformat": 4,
  "nbformat_minor": 0,
  "metadata": {
    "colab": {
      "name": "M8_1_Ingenieria_del_ML_v5.ipynb",
      "provenance": [],
      "collapsed_sections": []
    },
    "kernelspec": {
      "display_name": "Python 3",
      "language": "python",
      "name": "python3"
    },
    "language_info": {
      "codemirror_mode": {
        "name": "ipython",
        "version": 3
      },
      "file_extension": ".py",
      "mimetype": "text/x-python",
      "name": "python",
      "nbconvert_exporter": "python",
      "pygments_lexer": "ipython3",
      "version": "3.7.7"
    }
  },
  "cells": [
    {
      "cell_type": "markdown",
      "metadata": {
        "id": "1gdQCms2WRjy"
      },
      "source": [
        "# **Gestión de Proyectos**\n",
        "\n",
        "---\n",
        "---\n",
        "<!-- Star Wars: Episodio II - El ataque de los clones -->\n",
        "\n",
        "\n",
        "<!-- script html for image -->\n",
        "<figure>\n",
        "<center>\n",
        "\n",
        "<img src='https://upload.wikimedia.org/wikipedia/commons/2/22/Star_Wars_Episode_VIII_The_Last_Jedi_Word_Logo.svg' width=\"500\" height=\"300\" />\n",
        "\n",
        "</figure> </center>\n",
        "\n",
        "\n",
        "Fuente de la imagen: [https://es.wikipedia.org](https://es.wikipedia.org/wiki/Star_Wars:_Episodio_VIII_-_Los_%C3%BAltimos_Jedi)\n"
      ]
    },
    {
      "cell_type": "markdown",
      "metadata": {
        "id": "o00pbFRRaznC"
      },
      "source": [
        "# **Índice**\n",
        "\n",
        "---\n"
      ]
    },
    {
      "cell_type": "markdown",
      "metadata": {
        "id": "nsiqIx_ua45p"
      },
      "source": [
        "> [Gestión de Proyectos](#scrollTo=1gdQCms2WRjy)\n",
        "<br>\n",
        ">>\n",
        ">> [0 - Target](#scrollTo=6NWS6cGwWRj2&line=1&uniqifier=1)\n",
        ">>\n",
        ">> [1 - Visión general de Gestión de Proyectos](#scrollTo=1OcJmT_nWRj3&line=2&uniqifier=1)\n",
        ">>\n",
        ">>[2 - Ingeniería del Aprendizaje Automático](#scrollTo=fW03TxCVWRj4)\n",
        ">>\n",
        ">>[3 - Monitorizar el rendimiento y la efectividad de los modelos implementados](#scrollTo=zZ0bqi2DWRj5&line=2&uniqifier=1)\n",
        ">>\n",
        "\n",
        ">>\n",
        "> [Referencias](#scrollTo=-5aYLvzjWRj-&line=9&uniqifier=1) \\\\\n",
        "> \n",
        "> [Ideas Clave](#scrollTo=WjF-O3E1cdya&line=11&uniqifier=1) \\\\"
      ]
    },
    {
      "cell_type": "markdown",
      "metadata": {
        "id": "6NWS6cGwWRj2"
      },
      "source": [
        "## 0 - Target:\n",
        "\n",
        "1. Entender la ingeniería y validación de los modelos.\n",
        "\n",
        "2. Entender las fases  de Diseño de aplicaciones impulsada por Machine Learning, su  experimentación, implementación, las operaciones asociadas con un buen despliegue y su posterior mantenimiento.\n"
      ]
    },
    {
      "cell_type": "markdown",
      "metadata": {
        "id": "1OcJmT_nWRj3"
      },
      "source": [
        "<a id=Vision></a>\n",
        "## 1 - Visión general de Gestión de Proyectos\n",
        "En la industria del aprendizaje automático están involucrados muchos equipos y activos como por ejemplo; códigos antiguos, base de datos, proveedores, clientes, etc. Éstos hacen que sea imprescindible la utilización de operaciones y metodologías adecuadas de ML para que aporten a las organizaciones un mejor retorno de inversión reduciendo el time to market, y escalando su valor productivo y diferencial. Hoy en día, el activo que otorga a las organizaciones los valores diferenciales citados se conoce como el MLOPs. \n",
        "\n",
        "\n",
        "Gestión de Proyectos: Los científicos de datos pueden implementar y entrenar un modelo de ML con rendimiento predictivo en un conjunto de datos de exclusión sin conexión, con datos de entrenamiento relevantes para el caso de uso. Sin embargo, el verdadero desafío no consiste en compilar un modelo de ML, sino un sistema de ML integrado, y operarlo en la producción de forma continua.\n",
        "\n",
        "<br>\n",
        "<p> <mark>SABIAS QUE </mark> </p>\n",
        "<hr>\n",
        "\n",
        "*“…developing and deploying ML systems is relatively fast and cheap, but maintaining them over time is difficult and expensive.” – \n",
        "**D.Sculley et al.**, Hidden Technical Debt in Machine Learning Systems, NIPS 2015*\n",
        "\n",
        "<hr>\n",
        "\n",
        "\\\\\n",
        "\n",
        "**¿Qué son los MLOPs?**\n",
        "\n",
        "- Los MLOPs son, ante todo, uno nuevo paradigma de implementación de las operaciones que envuelven las técnicas del aprendizaje automático.\n",
        "\n",
        "- Los MLOps (conjunto entre aprendizaje automático y operaciones) son operaciones y metodologías de ML creados para ayudar a que las empresas pasen de los requisitos de un proyecto a su implementación, teniendo en cuenta todos los recursos necesarios y sobre todo su puesta en marcha y mantenimiento con mayor rapidez reduciendo en gran medida tiempo, riesgo y dinero.\n",
        "\n",
        "Podemos resumir que los *MLOPs* nacen para administrar el ciclo de vida del aprendizaje automático a través de la automatización y la escalabilidad para dotar a la empresa una herramienta que le facilite un buen retorno de inversión fomentando la cooperación y la comunicación entre los equipos de Data Scientists y TI.\n",
        "\n",
        "**¿Para qué nacen los MLOPs?**\n",
        "- Los procesos de MLOPs, nacen para reducir riesgos, tiempo y añadir valor a las empresas que se enfrentan al desafío constante de trasladar modelos de aprendizaje automático en entornos de producción.  \n",
        "\n",
        "Muchos de los modelos de Machine Learning que no han sido pensados para ser implementados a gran escala, resultan ser de difícil implementación y mantenimiento porque estadísticamente hablando, los modelos creados varios meses atrás sin la técnica de MLOPs resultan, como mínimo, ser obsoletos cuando uno intenta su puesta en producción. También, no resultan de fácil integración en el caso de querer automatizar dichos modelos. \n",
        "\n",
        "**¿Cómo funcionan?**\n",
        "- Monitorizando y retroalimentando continuamente todos los procesos que conllevan las operaciones de un sistema de aprendizaje automático.\n",
        "\n",
        "**¿Quiénes necesitan MLOPs?**\n",
        "- Todas las empresas (con su equipo de Data Scientists y TI) que basan su modelo productivo en la gestión de proyectos de ML. También, todas las compañías que luchan por integrar aplicaciones de ML con aplicaciones de producción existentes que pierden tiempo y dinero en dichos proyectos que nunca se ponen en producción.\n",
        "\n",
        "**¿Cuáles son sus beneficios?**\n",
        "- Los principales beneficios que ofrecen la adopción de los MLOps son los siguientes:\n",
        "\n",
        "    -\t*La reducción de tiempo*:\n",
        "        -\tImplementar más modelos y con mayor velocidad en los procesos automatizados.\n",
        "        -\tAcelerar el tiempo de generación de valor con entrega rápida de modelos.\n",
        "    -\t*La mejora de la productividad*:\n",
        "        -\tOptimizar la productividad mediante la colaboración y la reutilización de modelos.\n",
        "        -\tReducir el riesgo de perder tiempo y dinero en modelos que nunca se ponen en producción.\n",
        "        -\tMejorar la canalización de los datos permitiendo obtener la calidad de datos necesaria. (Recordemos que sin los datos no hay ML).\n",
        "        -\tMejorar el seguimiento del modelo, el control de versiones, el monitoreo, la administración y las gestiones transversales como verticales de los proyectos.\n",
        "    -\t*Escalabilidad*:\n",
        "        -\tEl monitoreo continuo y la actualización de modelos a medida que los datos se desvían a lo largo del tiempo, permiten tener una herramienta que nos aseguran una buena escalabilidad.\n",
        "    -\t*Reproducibilidad*:\n",
        "        -\tUna de las grandes ventajas de los MLOPS, es su fácil implementación para los proyectos futuros sacando un gran provecho de la reutilización de modelos anteriores.\n",
        "    -\t*Pruebas de escenarios futuros*: \n",
        "        -\tCon el sistema de control de versiones, los RRHH pueden probar otros escenarios futuros a base de los modelos anteriores.\n",
        "    -\t*Valor diferencial*:\n",
        "        -\tTal y como hemos visto en el apartado de la mejora de la productividad, los MLOPs ayudan a aumentar la productividad a través de la automatización e inteligencia. Esto puede llegar a ser una ventaja diferencial para la organización.\n",
        "\n",
        "\n"
      ]
    },
    {
      "cell_type": "markdown",
      "metadata": {
        "id": "3urbJfqz4a2M"
      },
      "source": [
        "<br>\n",
        "<p> <mark>RECUERDA </mark> </p>\n",
        "<hr>\n",
        "\n",
        "*“87% of projects don’t get past the experiment phase and therefore, never make it into production”\n",
        "    -**Santiago Giraldo**, Senior Product Marketing Manager and Data Engineer at Cloudera*\n",
        "<hr>\n",
        "\n",
        "<br>\n",
        "<p> <mark>IMPORTANTE: </mark> </p>\n",
        "<hr>\n",
        "\n",
        "*Los MLOPS ayudan a:*\n",
        "- Mejorar todo el proceso de desarrollo del modelo.\n",
        "- Reducir el tiempo que los científicos de datos dedican a la resolución de problemas de modelos durante el proceso de implementación.\n",
        "- Mejorar el proceso de monitoreo del modelo.\n",
        "- Ahorrar dinero a la empresa.\n",
        "- Escalar mejor los proyectos basados en ML.\n",
        "- Mejorar la gestión del ciclo de vida de los proyectos.\n",
        "- Mejorar y simplificar la gobernanza de los modelos*\n",
        "<hr>"
      ]
    },
    {
      "cell_type": "markdown",
      "metadata": {
        "id": "fW03TxCVWRj4"
      },
      "source": [
        "<a id=IngML ></a>\n",
        "## 2 - Ingeniería del Aprendizaje Automático\n",
        "\n",
        "En cualquier proyecto de ML, después de definir el caso de uso empresarial y establecer los KPIs de éxito, el proceso de entrega (a producción) implica definir **unos pasos que pueden ser manuales o automáticos** en función de la madurez de las aplicaciones.\n",
        "\n",
        "<img src=\"https://raw.githubusercontent.com/pifparfait/IL3/main/Ing_ML.png?token=AGKQN3YJI4NIZ3JX2NJ2LNLA5HS6I\" style=\"max-width:100%;\" />\n",
        "\n",
        "Fuente:  https://ml-ops.org \n",
        "\n",
        "Esta ingeniería cuenta con 3 canalizaciones importantes. \n",
        "1.\t**La canalización de los datos:**\n",
        "-\tEsta canalización es la encargada de la limpieza de datos. Sabemos que sin los datos no hay ML. Esta parte contiene todas las herramientas necesarias para conseguir la calidad suficiente de los datos para la siguiente canalización.\n",
        "2.\t**La canalización de ML:**\n",
        "- Esta canalización integra las herramientas para las operaciones más conocidas por los Data scientists e IT. Es la canalización encargada para encontrar y encapsular el modelo basado en los datos muéstrales validados de la etapa precedente. \n",
        "3.\t**La canalización de Software:**\n",
        "- Esta canalización está pensada para el mantenimiento y la puesta en producción. Integra todas las operaciones de monitoreo, testeo e integración del modelo validado y versionado en la etapa previa.\n",
        "\n",
        "\n",
        "[2] https://wikipedia.org/wiki/Exploratory_data_analysis\n",
        "[3] https://en.wikipedia.org/wiki/Training,_validation,_and_test_sets#Holdout_dataset\n",
        "\n",
        "\n"
      ]
    },
    {
      "cell_type": "markdown",
      "metadata": {
        "id": "ehSz0K2I4a2Q"
      },
      "source": [
        "<br>\n",
        "<p> <mark>SABIAS QUE </mark> </p>\n",
        "<hr>\n",
        "\n",
        "*“MLOPs tools make it easy for ML teams to understand the performance of new models and catch and repair errors in production.”\n",
        "-**Matei Zaharia**, who is the chief technologist at Databricks.*\n",
        "<hr>"
      ]
    },
    {
      "cell_type": "markdown",
      "metadata": {
        "id": "zZ0bqi2DWRj5"
      },
      "source": [
        "<a id=Monitor ></a>\n",
        "## 3 - Monitorizar el rendimiento y la efectividad de los modelos implementados\n",
        "\n",
        "La monitorización es una de las mejores contribuciones a la eficiéncia de la gestión de proyectos porque permite afinar la calidad de los datos para obtener el mejor modelo gracias a la retroalimentación.\n",
        "\n",
        "**¿Cuáles son los principales conceptos de los MLOPs?**\n",
        "- Los conceptos necesarios para la gestión de proyectos basada en ML con entorno al trabajo por MLOPs son:\n",
        "    -\t*La Integración Continua (CI)*: Es el proceso encargado de probar y validar el código y sus componentes, y de, probar y validar datos, esquemas de datos y modelos.\n",
        "\n",
        "    -\t*La Entrega Continua (CD)*: Es el sistema que permite la entrega automática al repositorio previo a la producción.\n",
        "\n",
        "    - *El Entrenamiento Continuo (CT)*: Es el proceso definido para los sistemas de ML que se ocupa de volver a entrenar y entregar los modelos de forma automática.\n",
        "\n",
        "    - *El Despliegue continuo (CD)*: Es el proceso definido para el despliegue automático en producción.\n",
        "\n",
        "\n",
        "<img src=\"https://github.com/pifparfait/IL3/blob/main/CDCICD1.png?raw=true\" style=\"max-width:100%;\"/>\n",
        "\n",
        "Fuente:  https://www.redhat.com/ \n",
        "\n",
        "\\\\\n",
        "\n",
        "Casi todas las grandes empresas que ofrecen entornos inteligentes (Azure, AWS, Google Cloud) de gestión de proyectos cuentan con frameworks de MLOPs. El reto no está en cómo usarlos, sino en saber de su existencia y de los beneficios que aportan.\n"
      ]
    },
    {
      "cell_type": "markdown",
      "metadata": {
        "id": "ulduT89-4a2U"
      },
      "source": [
        "<br>\n",
        "<p> <mark>SABIAS QUE </mark> </p>\n",
        "<hr>\n",
        "\n",
        "*¿Sabias que usando MLOPS podrías reducir problemas de latencia?*\n",
        "<hr>"
      ]
    },
    {
      "cell_type": "markdown",
      "metadata": {
        "id": "IYs0WJ9kgd_7"
      },
      "source": [
        "<br>\n",
        "<p> <mark>IMPORTANTE</mark> </p>\n",
        "<hr>\n",
        "<p> \n",
        "\n",
        "En resumen, hay que tener en cuenta los siguientes 8 pasos para una buena gestión del rendiemiento y la efectividad de los modelos implementados:\n",
        "\n",
        "1. Monitorear los cambios de dependencia a lo largo de la canalización completa dan como resultado una notificación.\n",
        "\n",
        "2. Monitorear invariantes de datos en entradas de entrenamiento y servicio.\n",
        "   \n",
        "3. Supervisar si las funciones de entrenamiento y servicio calculan el mismo valor.\n",
        "    \n",
        "4. Monitorear la estabilidad numérica del modelo ML.\n",
        "\n",
        "5. Monitorear el desempeño computacional de un sistema ML.\n",
        "\n",
        "6. Supervisar qué tan obsoleto está el sistema en producción.\n",
        "\n",
        "7. Monitorear los procesos de generación de características a medida que tengan impacto en el modelo.\n",
        "\n",
        "8. Monitorear la degradación de la calidad predictiva del modelo ML en los datos servidos."
      ]
    },
    {
      "cell_type": "markdown",
      "metadata": {
        "id": "-5aYLvzjWRj-"
      },
      "source": [
        "## Referencias\n",
        "\n",
        "[1]  https://papers.nips.cc/paper/5656-hidden-technical-debt-in-machine-learning-systems.pdf \n",
        "\n",
        "[2] https://wikipedia.org/wiki/Exploratory_data_analysis\n",
        "\n",
        "[3] https://en.wikipedia.org/wiki/Training,_validation,_and_test_sets#Holdout_dataset\n",
        "\n",
        "[4] https://ml-ops.org\n",
        "\n",
        "[5] https://docs.microsoft.com/es-es/azure/architecture/reference-architectures/ai/mlops-python\n",
        "\n",
        "[6] https://docs.microsoft.com/es-es/azure/machine-learning/concept-model-management-and-deployment\n",
        "\n",
        "[7] https://www.alteryx.com/es-419/glossary/mlops"
      ]
    },
    {
      "cell_type": "markdown",
      "metadata": {
        "id": "WjF-O3E1cdya"
      },
      "source": [
        "# **IDEAS CLAVE**\n",
        "<br> \n",
        "<hr>\n",
        "<p> <h1> <center> <strong> Ingeniería del ML </center> </strong> </h1> </p>\n",
        "<hr>\n",
        "<br> \n",
        "\n",
        "\n",
        "\n",
        "* El verdadero desafío consiste en **crear un sistema de ML integrado, y operarlo en la producción de forma continua.**\n",
        "\n",
        "* **Monitorear** los procesos de generación de características a medida que tengan impacto en el modelo.\n",
        "\n",
        "* Una vez que se ha implementado, **es necesario supervisar el modelo de ML** para garantizar que funcione como se espera.\n"
      ]
    }
  ]
}